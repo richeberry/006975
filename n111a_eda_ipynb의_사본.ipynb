{
  "nbformat": 4,
  "nbformat_minor": 0,
  "metadata": {
    "colab": {
      "name": "n111a-eda.ipynb의 사본",
      "provenance": [],
      "collapsed_sections": [],
      "include_colab_link": true
    },
    "kernelspec": {
      "display_name": "Python 3",
      "language": "python",
      "name": "python3"
    },
    "language_info": {
      "codemirror_mode": {
        "name": "ipython",
        "version": 3
      },
      "file_extension": ".py",
      "mimetype": "text/x-python",
      "name": "python",
      "nbconvert_exporter": "python",
      "pygments_lexer": "ipython3",
      "version": "3.9.4"
    }
  },
  "cells": [
    {
      "cell_type": "markdown",
      "metadata": {
        "id": "view-in-github",
        "colab_type": "text"
      },
      "source": [
        "<a href=\"https://colab.research.google.com/github/richeberry/006975/blob/master/n111a_eda_ipynb%EC%9D%98_%EC%82%AC%EB%B3%B8.ipynb\" target=\"_parent\"><img src=\"https://colab.research.google.com/assets/colab-badge.svg\" alt=\"Open In Colab\"/></a>"
      ]
    },
    {
      "cell_type": "markdown",
      "metadata": {
        "id": "MSnsTgZLKO72"
      },
      "source": [
        "<img src='https://i.imgur.com/RDAD11M.png' width = '200' align = 'right'>\n",
        "\n",
        "## *DATA SCIENCE / SECTION 1 / SPRINT 1 / NOTE 1*\n",
        "\n",
        "---\n",
        "\n",
        "# 📝 Assignment\n",
        "\n"
      ]
    },
    {
      "cell_type": "markdown",
      "metadata": {
        "id": "qoR8E-T2TYPd"
      },
      "source": [
        "## 1.데이터셋 불러오기 연습\n",
        "\n",
        "다음 url에서 엑셀 파일을 불러오세요. (pandas excel)\n",
        "\n",
        "<https://ds-lecture-data.s3.ap-northeast-2.amazonaws.com/stocks/Travel.xlsx>\n",
        "\n",
        "  - 데이터셋 변수의 이름은 `df1`, `df2`로 저장하세요.\n",
        "  - row가 아닌 column에 '매출액', '영업이익' 이 가도록 데이터를 transpose 하세요.\n",
        "  - 이후 아래 링크를 참조하여 첫번째 row를 column name으로 설정하세요.\n",
        "\n",
        "<https://stackoverflow.com/questions/31328861/python-pandas-replacing-header-with-top-row>\n",
        "\n",
        "- 파일은 2개의 시트로 구성되어 있으며 각각 이름은 `008770`, `035250` 입니다.\n",
        "\n"
      ]
    },
    {
      "cell_type": "code",
      "metadata": {
        "id": "wMxnu2SmTS8Z",
        "colab": {
          "base_uri": "https://localhost:8080/"
        },
        "outputId": "aa50ff25-1167-422f-dbce-ade675a04b6d"
      },
      "source": [
        "\n",
        "import pandas as pd\n",
        "\n",
        "xls = 'https://ds-lecture-data.s3.ap-northeast-2.amazonaws.com/stocks/Travel.xlsx'\n",
        "\n",
        "#xls.sheet_names\n",
        "\n",
        "\n",
        "df1 = pd.read_excel(xls,sheet_name='008770 ')\n",
        "df2 = pd.read_excel(xls,sheet_name='035250')\n",
        "\n",
        "df1= df1.T\n",
        "df2= df2.T\n",
        "\n",
        "new_header = df1.iloc[0] # first row 저장\n",
        "df1 = df1[1:] # 데이터들을 first row를 제외한 데이터들로 만듦\n",
        "df1.columns = new_header #저장했던 first row를 header로 지정\n",
        "\n",
        "new_header = df2.iloc[0] \n",
        "df2 = df2[1:] \n",
        "df2.columns = new_header \n",
        "\n",
        "print(df1)\n",
        "print(df2)"
      ],
      "execution_count": 1,
      "outputs": [
        {
          "output_type": "stream",
          "name": "stdout",
          "text": [
            "주요재무정보                  매출액 영업이익 영업이익(발표기준)  ... 현금DPS(원) 현금배당수익률 현금배당성향(%)\n",
            "2019/09\\n(IFRS연결)     14753  574        574  ...        0     NaN         0\n",
            "2019/12\\n(IFRS연결)     15440  776        776  ...      350     NaN     34.94\n",
            "2020/03\\n(IFRS연결)      9437 -668       -668  ...      NaN     NaN         0\n",
            "2020/06\\n(IFRS연결)      5230 -634       -634  ...      NaN     NaN         0\n",
            "2020/09\\n(IFRS연결)      8795 -198       -198  ...      NaN     NaN       NaN\n",
            "2020/12(E)\\n(IFRS연결)   9980   50        NaN  ...      NaN     NaN       NaN\n",
            "2021/03(E)\\n(IFRS연결)   9761  144        NaN  ...      NaN     NaN       NaN\n",
            "2021/06(E)\\n(IFRS연결)   9820  265        NaN  ...      NaN     NaN       NaN\n",
            "\n",
            "[8 rows x 32 columns]\n",
            "주요재무정보                 매출액  영업이익 영업이익(발표기준)  ... 현금DPS(원) 현금배당수익률 현금배당성향(%)\n",
            "2019/09\\n(IFRS연결)     4055  1392       1392  ...        0     NaN         0\n",
            "2019/12\\n(IFRS연결)     3728   641        641  ...      900     NaN    346.75\n",
            "2020/03\\n(IFRS연결)     2360 -1868      -1868  ...      NaN     NaN       NaN\n",
            "2020/06\\n(IFRS연결)      346 -1038      -1038  ...      NaN     NaN         0\n",
            "2020/09\\n(IFRS연결)      766  -649       -649  ...      NaN     NaN       NaN\n",
            "2020/12(E)\\n(IFRS연결)  1581  -434        NaN  ...      NaN     NaN       NaN\n",
            "2021/03(E)\\n(IFRS연결)  1473  -187        NaN  ...      NaN     NaN       NaN\n",
            "2021/06(E)\\n(IFRS연결)  1746   -65        NaN  ...      NaN     NaN       NaN\n",
            "\n",
            "[8 rows x 32 columns]\n"
          ]
        }
      ]
    },
    {
      "cell_type": "markdown",
      "metadata": {
        "id": "156P6ndeKojO"
      },
      "source": [
        "## 2. 데이터 확인\n",
        "\n",
        "- 데이터의 dimension을 확인하세요.\n",
        "- 데이터의 결측치가 어디에 있는지 확인 후 0으로 대체하세요.\n",
        "- 각 데이터 별로 **FCF**의 값을 barplot으로 시각화하세요.\n",
        "  - 0보다 큰 값인 셀 개수의 총합을 `num1`에, 작은 값인 셀 개수의 총합을 `num2`에 저장하세요\n"
      ]
    },
    {
      "cell_type": "code",
      "metadata": {
        "id": "s_ld2YJujRSb",
        "colab": {
          "base_uri": "https://localhost:8080/"
        },
        "outputId": "f90158ef-f1f9-4c19-941a-2458fa9eeb60"
      },
      "source": [
        "\n",
        "# 데이터 dimension 확인\n",
        "df1.shape\n",
        "df2.shape\n",
        "\n",
        "\n",
        "# 데이터 결측치 확인 후 0으로 대체\n",
        "df1.isnull().sum() # 합쳐줌\n",
        "df2.isnull().sum()\n",
        "df1 = df1.fillna(0)\n",
        "df2 = df2.fillna(0)\n",
        "\n",
        "print(df1)\n",
        "print(df2)"
      ],
      "execution_count": 2,
      "outputs": [
        {
          "output_type": "stream",
          "name": "stdout",
          "text": [
            "주요재무정보                    매출액   영업이익  영업이익(발표기준)  ...  현금DPS(원)  현금배당수익률  현금배당성향(%)\n",
            "2019/09\\n(IFRS연결)     14753.0  574.0       574.0  ...       0.0        0       0.00\n",
            "2019/12\\n(IFRS연결)     15440.0  776.0       776.0  ...     350.0        0      34.94\n",
            "2020/03\\n(IFRS연결)      9437.0 -668.0      -668.0  ...       0.0        0       0.00\n",
            "2020/06\\n(IFRS연결)      5230.0 -634.0      -634.0  ...       0.0        0       0.00\n",
            "2020/09\\n(IFRS연결)      8795.0 -198.0      -198.0  ...       0.0        0       0.00\n",
            "2020/12(E)\\n(IFRS연결)   9980.0   50.0         0.0  ...       0.0        0       0.00\n",
            "2021/03(E)\\n(IFRS연결)   9761.0  144.0         0.0  ...       0.0        0       0.00\n",
            "2021/06(E)\\n(IFRS연결)   9820.0  265.0         0.0  ...       0.0        0       0.00\n",
            "\n",
            "[8 rows x 32 columns]\n",
            "주요재무정보                   매출액    영업이익  영업이익(발표기준)  ...  현금DPS(원)  현금배당수익률  현금배당성향(%)\n",
            "2019/09\\n(IFRS연결)     4055.0  1392.0      1392.0  ...       0.0        0       0.00\n",
            "2019/12\\n(IFRS연결)     3728.0   641.0       641.0  ...     900.0        0     346.75\n",
            "2020/03\\n(IFRS연결)     2360.0 -1868.0     -1868.0  ...       0.0        0       0.00\n",
            "2020/06\\n(IFRS연결)      346.0 -1038.0     -1038.0  ...       0.0        0       0.00\n",
            "2020/09\\n(IFRS연결)      766.0  -649.0      -649.0  ...       0.0        0       0.00\n",
            "2020/12(E)\\n(IFRS연결)  1581.0  -434.0         0.0  ...       0.0        0       0.00\n",
            "2021/03(E)\\n(IFRS연결)  1473.0  -187.0         0.0  ...       0.0        0       0.00\n",
            "2021/06(E)\\n(IFRS연결)  1746.0   -65.0         0.0  ...       0.0        0       0.00\n",
            "\n",
            "[8 rows x 32 columns]\n"
          ]
        }
      ]
    },
    {
      "cell_type": "code",
      "metadata": {
        "colab": {
          "base_uri": "https://localhost:8080/"
        },
        "id": "KqlO360hM3Jo",
        "outputId": "6db3d372-1708-4949-bfb3-41d379f04db0"
      },
      "source": [
        "# barplot 하면서 폰트가 깨짐 - 폰트 바꾸기\n",
        "\n",
        "!sudo apt-get install -y fonts-nanum\n",
        "!sudo fc-cache -fv\n",
        "!rm ~/.cache/matplotlib -rf"
      ],
      "execution_count": 3,
      "outputs": [
        {
          "output_type": "stream",
          "name": "stdout",
          "text": [
            "Reading package lists... Done\n",
            "Building dependency tree       \n",
            "Reading state information... Done\n",
            "fonts-nanum is already the newest version (20170925-1).\n",
            "0 upgraded, 0 newly installed, 0 to remove and 45 not upgraded.\n",
            "/usr/share/fonts: caching, new cache contents: 0 fonts, 1 dirs\n",
            "/usr/share/fonts/truetype: caching, new cache contents: 0 fonts, 3 dirs\n",
            "/usr/share/fonts/truetype/humor-sans: caching, new cache contents: 1 fonts, 0 dirs\n",
            "/usr/share/fonts/truetype/liberation: caching, new cache contents: 16 fonts, 0 dirs\n",
            "/usr/share/fonts/truetype/nanum: caching, new cache contents: 31 fonts, 0 dirs\n",
            "/usr/local/share/fonts: caching, new cache contents: 0 fonts, 0 dirs\n",
            "/root/.local/share/fonts: skipping, no such directory\n",
            "/root/.fonts: skipping, no such directory\n",
            "/var/cache/fontconfig: cleaning cache directory\n",
            "/root/.cache/fontconfig: not cleaning non-existent cache directory\n",
            "/root/.fontconfig: not cleaning non-existent cache directory\n",
            "fc-cache: succeeded\n"
          ]
        }
      ]
    },
    {
      "cell_type": "code",
      "metadata": {
        "colab": {
          "base_uri": "https://localhost:8080/",
          "height": 398
        },
        "id": "ZySfaWrPNIiD",
        "outputId": "342ebcb7-39b0-44e9-ea8f-4d5968eb7a5b"
      },
      "source": [
        "# 데이터 별로 FCF 값 barplot으로 시각화 \n",
        "\n",
        "import matplotlib.pyplot as plt\n",
        "\n",
        "plt.rc('font', family='NanumBarunGothic')\n",
        "\n",
        "df1['FCF'].plot.bar()\n",
        "df2['FCF'].plot.bar()"
      ],
      "execution_count": 11,
      "outputs": [
        {
          "output_type": "execute_result",
          "data": {
            "text/plain": [
              "<matplotlib.axes._subplots.AxesSubplot at 0x7f4ad7c4d210>"
            ]
          },
          "metadata": {},
          "execution_count": 11
        },
        {
          "output_type": "stream",
          "name": "stderr",
          "text": [
            "/usr/local/lib/python3.7/dist-packages/matplotlib/backends/backend_agg.py:214: RuntimeWarning: Glyph 8722 missing from current font.\n",
            "  font.set_text(s, 0.0, flags=flags)\n",
            "/usr/local/lib/python3.7/dist-packages/matplotlib/backends/backend_agg.py:183: RuntimeWarning: Glyph 8722 missing from current font.\n",
            "  font.set_text(s, 0, flags=flags)\n"
          ]
        },
        {
          "output_type": "display_data",
          "data": {
            "image/png": "[encoded data removed]",
            "text/plain": [
              "<Figure size 432x288 with 1 Axes>"
            ]
          },
          "metadata": {
            "needs_background": "light"
          }
        }
      ]
    },
    {
      "cell_type": "code",
      "metadata": {
        "colab": {
          "base_uri": "https://localhost:8080/"
        },
        "id": "EaKnTwDDO8RF",
        "outputId": "737ed520-84da-4130-c5e2-570d1bf5298c"
      },
      "source": [
        "# 0보다 큰 값의 셀 수의 총합을 num1에, 작은 값의 셀 수의 총합을 num2에 저장\n",
        "\n",
        "def zero(df):\n",
        "    num1, num2 = 0,0\n",
        "    for i in df['FCF']:\n",
        "        if i>0: num1 += i\n",
        "        else: num2 += i\n",
        "    return num1,num2\n",
        "\n",
        "num1 = zero(df1)[0] + zero(df2)[0]\n",
        "num2 = zero(df1)[1] + zero(df2)[1]\n",
        "print(num1,num2)\n"
      ],
      "execution_count": 33,
      "outputs": [
        {
          "output_type": "stream",
          "name": "stdout",
          "text": [
            "6941.0 -11263.0\n"
          ]
        }
      ]
    },
    {
      "cell_type": "markdown",
      "metadata": {
        "id": "OGMOBwEBTqKS"
      },
      "source": [
        "## 3. File export\n",
        "\n",
        "- 읽었던 엑셀 파일의 내용을 2개의 csv로 각각 출력하세요. (python export csv)\n",
        "\n",
        "  - 이름은 각각 `df1.csv`, `df2.csv` 입니다.\n"
      ]
    },
    {
      "cell_type": "code",
      "metadata": {
        "id": "xe47NX7qk53H"
      },
      "source": [
        "df1.to_csv('df1.csv',index= False)\n",
        "df2.to_csv('df2.csv',index= False)"
      ],
      "execution_count": 35,
      "outputs": []
    },
    {
      "cell_type": "markdown",
      "metadata": {
        "id": "DCZ01w4Ps-jO"
      },
      "source": [
        "## 4. Error Handling\n",
        "\n",
        "- 다음의 에러를 고치세요. 결과값은 6912가 나와야합니다.\n"
      ]
    },
    {
      "cell_type": "code",
      "metadata": {
        "colab": {
          "base_uri": "https://localhost:8080/"
        },
        "id": "NJdISe69ZT7E",
        "outputId": "d1d4dad3-f398-4889-bce4-82e9f40b55a5"
      },
      "source": [
        "a = '1234'\n",
        "b = 5678\n",
        "\n",
        "int(a)+b"
      ],
      "execution_count": 6,
      "outputs": [
        {
          "output_type": "execute_result",
          "data": {
            "text/plain": [
              "6912"
            ]
          },
          "metadata": {},
          "execution_count": 6
        }
      ]
    },
    {
      "cell_type": "markdown",
      "metadata": {
        "id": "KROePyMWQc08"
      },
      "source": [
        "## 5. EDA\n",
        "\n",
        "아래의 코드는 palmer penguin 데이터를 불러올 수 있는 코드입니다.\n",
        "\n",
        "```python\n",
        "import seaborn as sns\n",
        "\n",
        "pp = sns.load_dataset('penguins')\n",
        "```\n",
        "\n",
        "이를 참조하여, `pp`의 `species`와 `sex`변수에 대해서 cross-tabulation을 시행하고, 6개의 값들 중 가장 큰 값을 `num3`에, 가장 작은 값을 `num4`에 저장하세요."
      ]
    },
    {
      "cell_type": "code",
      "metadata": {
        "id": "--GRbZag0ZnF"
      },
      "source": [
        "import seaborn as sns\n",
        "import pandas as pd\n",
        "\n",
        "pp = sns.load_dataset('penguins')\n",
        "\n",
        "c_pp = pd.crosstab(pp.species, pp.sex)\n",
        "\n",
        "num3 = 73\n",
        "num4 = 34\n"
      ],
      "execution_count": 82,
      "outputs": []
    },
    {
      "cell_type": "markdown",
      "metadata": {
        "id": "axPHh5t5s124"
      },
      "source": [
        "## 🔥 도전과제 "
      ]
    },
    {
      "cell_type": "markdown",
      "metadata": {
        "id": "Obp0rnowSgF8"
      },
      "source": [
        "### penguins 데이터를 계속 사용합니다.\n",
        "\n",
        "이에 대해 아래의 task들을 시행하세요.\n",
        "\n",
        "- 결측치 처리 (제거)\n",
        "\n",
        "- bill_length_mm에 대해서 qqplot 그리기\n",
        "\n",
        "- island에 대해서 다른 4개의 numerical feature 를 boxplot으로 표현하기\n",
        "\n",
        "- 각 numerical feature에 대해서 summary statistics : mean, sd, Quantiles(1Q, 2Q, 3Q, 4Q)를 계산하세요."
      ]
    },
    {
      "cell_type": "code",
      "metadata": {
        "id": "0tVL1EYBTS45"
      },
      "source": [
        "# 이 곳에 답안을 작성하시길 바랍니다"
      ],
      "execution_count": null,
      "outputs": []
    }
  ]
}